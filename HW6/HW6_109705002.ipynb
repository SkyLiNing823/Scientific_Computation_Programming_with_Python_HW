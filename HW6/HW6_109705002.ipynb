{
 "cells": [
  {
   "cell_type": "code",
   "execution_count": 14,
   "metadata": {},
   "outputs": [],
   "source": [
    "import matplotlib.pyplot as plt\n",
    "import numpy as np"
   ]
  },
  {
   "cell_type": "code",
   "execution_count": 15,
   "metadata": {},
   "outputs": [
    {
     "name": "stdout",
     "output_type": "stream",
     "text": [
      "[57]\n",
      "[6, 57]\n"
     ]
    }
   ],
   "source": [
    "def quadratic(X, A):\n",
    "    L = []\n",
    "    for i in range(len(X)):\n",
    "        e = 0\n",
    "        for j in range(len(A)):\n",
    "            e += X[i]**j * A[j]\n",
    "        L.append(e)\n",
    "    return L\n",
    "\n",
    "print(quadratic([4], [1, 2, 3])) # [57]\n",
    "print(quadratic([1, 4], [1, 2, 3])) # [6, 57]\n",
    "            "
   ]
  },
  {
   "cell_type": "code",
   "execution_count": 29,
   "metadata": {},
   "outputs": [
    {
     "data": {
      "text/plain": [
       "[<matplotlib.lines.Line2D at 0x270b9f8aac8>,\n",
       " <matplotlib.lines.Line2D at 0x270ba0c53c8>,\n",
       " <matplotlib.lines.Line2D at 0x270ba0c5518>]"
      ]
     },
     "execution_count": 29,
     "metadata": {},
     "output_type": "execute_result"
    },
    {
     "data": {
      "image/png": "[encoded data removed]",
      "text/plain": [
       "<Figure size 432x288 with 1 Axes>"
      ]
     },
     "metadata": {
      "needs_background": "light"
     },
     "output_type": "display_data"
    }
   ],
   "source": [
    "X = np.arange(-0.5, 0.5, 0.01)\n",
    "A1 = [1, 2, 3]\n",
    "A2 = [-1, -2, -3]\n",
    "A3 = [4, 5, 6]\n",
    "plt.gca().set_prop_cycle('color', ['red', 'blue', 'green'])\n",
    "plt.plot(X, quadratic(X, A1), X, quadratic(X, A2), X, quadratic(X, A3), linewidth = 5)"
   ]
  },
  {
   "cell_type": "code",
   "execution_count": null,
   "metadata": {},
   "outputs": [],
   "source": []
  }
 ],
 "metadata": {
  "kernelspec": {
   "display_name": "Python 3",
   "language": "python",
   "name": "python3"
  },
  "language_info": {
   "codemirror_mode": {
    "name": "ipython",
    "version": 3
   },
   "file_extension": ".py",
   "mimetype": "text/x-python",
   "name": "python",
   "nbconvert_exporter": "python",
   "pygments_lexer": "ipython3",
   "version": "3.6.10"
  }
 },
 "nbformat": 4,
 "nbformat_minor": 4
}
